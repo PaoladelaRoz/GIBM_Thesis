{
 "cells": [
  {
   "cell_type": "code",
   "execution_count": 1,
   "id": "9d414145",
   "metadata": {},
   "outputs": [
    {
     "name": "stdout",
     "output_type": "stream",
     "text": [
      "Maximum Accuracy:\n",
      "Accuracy: 0.64%\n",
      "Best File: ./ampliacionTFG/Results_amp_AccCM/7st/10result12.txt\n"
     ]
    }
   ],
   "source": [
    "import os\n",
    "import re\n",
    "\n",
    "def extract_accuracy(filepath):\n",
    "    with open(filepath, 'r') as file:\n",
    "        content = file.read()\n",
    "        match = re.search(r'Accuracy:\\s+(\\d+\\.\\d+)', content)\n",
    "        if match:\n",
    "            return float(match.group(1))\n",
    "        else:\n",
    "            return None\n",
    "\n",
    "def compare_accuracies(paths):\n",
    "    max_accuracy = -1\n",
    "    best_file = None\n",
    "    \n",
    "    for path in paths:\n",
    "        accuracy = extract_accuracy(path)\n",
    "        if accuracy is not None and accuracy > max_accuracy:\n",
    "            max_accuracy = accuracy\n",
    "            best_file = path\n",
    "    \n",
    "    return max_accuracy, best_file\n",
    "\n",
    "# Define paths for comparison\n",
    "paths = []\n",
    "for s in [7, 8, 9, 10, 11, 12]:\n",
    "    for g in [0, 1, 2, 3, 4, 5, 6, 7, 8, 9, 10]:\n",
    "        for p in [0, 4, 8, 12]:\n",
    "            output_filename = f\"./ampliacionTFG/Results_amp_AccCM/{s}st/{g}result{p}.txt\"\n",
    "            if os.path.exists(output_filename):\n",
    "                paths.append(output_filename)\n",
    "\n",
    "for s in [3, 4, 5, 6]:\n",
    "    for g in [0, 1, 2, 3, 4, 5, 6, 7, 8, 9, 10]:\n",
    "        for p in [0, 4, 8, 12]:\n",
    "            output_filename = f\"./TFG_from3to6states/Training/Results_AccCM/{s}st/{g}result{p}.txt\"\n",
    "            if os.path.exists(output_filename):\n",
    "                paths.append(output_filename)\n",
    "\n",
    "# Compare accuracies\n",
    "max_accuracy, best_file = compare_accuracies(paths)\n",
    "\n",
    "print(\"Maximum Accuracy:\")\n",
    "print(f\"Accuracy: {max_accuracy:.2f}%\")\n",
    "print(f\"Best File: {best_file}\")\n"
   ]
  },
  {
   "cell_type": "code",
   "execution_count": null,
   "id": "0ef48022",
   "metadata": {},
   "outputs": [],
   "source": []
  }
 ],
 "metadata": {
  "kernelspec": {
   "display_name": "Python 3 (ipykernel)",
   "language": "python",
   "name": "python3"
  },
  "language_info": {
   "codemirror_mode": {
    "name": "ipython",
    "version": 3
   },
   "file_extension": ".py",
   "mimetype": "text/x-python",
   "name": "python",
   "nbconvert_exporter": "python",
   "pygments_lexer": "ipython3",
   "version": "3.9.13"
  }
 },
 "nbformat": 4,
 "nbformat_minor": 5
}
